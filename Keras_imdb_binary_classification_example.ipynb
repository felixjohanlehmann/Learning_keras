{
 "cells": [
  {
   "cell_type": "markdown",
   "metadata": {},
   "source": [
    "# Keras_imdb_binary_classification_example"
   ]
  },
  {
   "cell_type": "markdown",
   "metadata": {},
   "source": [
    "## Import and prepare data"
   ]
  },
  {
   "cell_type": "code",
   "execution_count": 2,
   "metadata": {},
   "outputs": [],
   "source": [
    "import tensorflow as tf\n",
    "\n",
    "(train_data, train_labels), (test_data, test_labels) = tf.keras.datasets.imdb.load_data(num_words = 5000)"
   ]
  },
  {
   "cell_type": "code",
   "execution_count": 3,
   "metadata": {},
   "outputs": [],
   "source": [
    "import numpy as np\n",
    "\n",
    "def vectorize_sequences(sequences, dimension = 5000):\n",
    "    results = np.zeros((len(sequences), dimension))\n",
    "    for i, sequence in enumerate(sequences):\n",
    "        results[i, sequence] = 1.\n",
    "    return results\n",
    "\n",
    "x_train = vectorize_sequences(train_data)\n",
    "x_test = vectorize_sequences(test_data)"
   ]
  },
  {
   "cell_type": "code",
   "execution_count": 4,
   "metadata": {},
   "outputs": [],
   "source": [
    "y_train = np.array(train_labels).astype('float32')\n",
    "y_test = np.array(test_labels).astype('float32')"
   ]
  },
  {
   "cell_type": "code",
   "execution_count": 5,
   "metadata": {},
   "outputs": [],
   "source": [
    "x_val = x_train[:10000]\n",
    "partial_x_train = x_train[10000:]\n",
    "y_val = y_train[:10000]\n",
    "partial_y_train = y_train[10000:]"
   ]
  },
  {
   "cell_type": "markdown",
   "metadata": {},
   "source": [
    "## Build and train NN"
   ]
  },
  {
   "cell_type": "code",
   "execution_count": 6,
   "metadata": {},
   "outputs": [],
   "source": [
    "model = tf.keras.models.Sequential()\n",
    "model.add(tf.keras.layers.Dense(16, activation = 'relu', input_shape = (5000,)))\n",
    "model.add(tf.keras.layers.Dense(16, activation = 'relu'))\n",
    "model.add(tf.keras.layers.Dense(1, activation = 'sigmoid'))"
   ]
  },
  {
   "cell_type": "code",
   "execution_count": 7,
   "metadata": {},
   "outputs": [],
   "source": [
    "model.compile(optimizer = 'rmsprop', loss = 'binary_crossentropy', metrics = ['acc'])"
   ]
  },
  {
   "cell_type": "code",
   "execution_count": 8,
   "metadata": {},
   "outputs": [
    {
     "name": "stdout",
     "output_type": "stream",
     "text": [
      "Train on 15000 samples, validate on 10000 samples\n",
      "Epoch 1/20\n",
      "15000/15000 [==============================] - 11s 729us/step - loss: 0.5099 - acc: 0.7885 - val_loss: 0.3979 - val_acc: 0.8545\n",
      "Epoch 2/20\n",
      "15000/15000 [==============================] - 2s 130us/step - loss: 0.3259 - acc: 0.8875 - val_loss: 0.3170 - val_acc: 0.8827\n",
      "Epoch 3/20\n",
      "15000/15000 [==============================] - 2s 126us/step - loss: 0.2533 - acc: 0.9116 - val_loss: 0.2944 - val_acc: 0.8840\n",
      "Epoch 4/20\n",
      "15000/15000 [==============================] - 2s 130us/step - loss: 0.2163 - acc: 0.9213 - val_loss: 0.2854 - val_acc: 0.8846\n",
      "Epoch 5/20\n",
      "15000/15000 [==============================] - 2s 150us/step - loss: 0.1886 - acc: 0.9310 - val_loss: 0.2840 - val_acc: 0.8863\n",
      "Epoch 6/20\n",
      "15000/15000 [==============================] - 2s 129us/step - loss: 0.1718 - acc: 0.9387 - val_loss: 0.2964 - val_acc: 0.8814\n",
      "Epoch 7/20\n",
      "15000/15000 [==============================] - 2s 134us/step - loss: 0.1526 - acc: 0.9478 - val_loss: 0.3045 - val_acc: 0.8791\n",
      "Epoch 8/20\n",
      "15000/15000 [==============================] - 2s 130us/step - loss: 0.1397 - acc: 0.9507 - val_loss: 0.3141 - val_acc: 0.8775\n",
      "Epoch 9/20\n",
      "15000/15000 [==============================] - 2s 130us/step - loss: 0.1276 - acc: 0.9553 - val_loss: 0.3675 - val_acc: 0.8641\n",
      "Epoch 10/20\n",
      "15000/15000 [==============================] - 2s 128us/step - loss: 0.1188 - acc: 0.9587 - val_loss: 0.3609 - val_acc: 0.8731\n",
      "Epoch 11/20\n",
      "15000/15000 [==============================] - 2s 124us/step - loss: 0.1052 - acc: 0.9643 - val_loss: 0.3658 - val_acc: 0.8712\n",
      "Epoch 12/20\n",
      "15000/15000 [==============================] - 2s 127us/step - loss: 0.0972 - acc: 0.9676 - val_loss: 0.4008 - val_acc: 0.8616\n",
      "Epoch 13/20\n",
      "15000/15000 [==============================] - 2s 132us/step - loss: 0.0858 - acc: 0.9739 - val_loss: 0.4405 - val_acc: 0.8614\n",
      "Epoch 14/20\n",
      "15000/15000 [==============================] - 2s 129us/step - loss: 0.0808 - acc: 0.9752 - val_loss: 0.4084 - val_acc: 0.8654\n",
      "Epoch 15/20\n",
      "15000/15000 [==============================] - 2s 124us/step - loss: 0.0701 - acc: 0.9787 - val_loss: 0.4958 - val_acc: 0.8564\n",
      "Epoch 16/20\n",
      "15000/15000 [==============================] - 2s 126us/step - loss: 0.0644 - acc: 0.9803 - val_loss: 0.4442 - val_acc: 0.8648\n",
      "Epoch 17/20\n",
      "15000/15000 [==============================] - 2s 126us/step - loss: 0.0562 - acc: 0.9837 - val_loss: 0.4685 - val_acc: 0.8638\n",
      "Epoch 18/20\n",
      "15000/15000 [==============================] - 2s 127us/step - loss: 0.0498 - acc: 0.9870 - val_loss: 0.4811 - val_acc: 0.8626\n",
      "Epoch 19/20\n",
      "15000/15000 [==============================] - 2s 126us/step - loss: 0.0451 - acc: 0.9874 - val_loss: 0.5621 - val_acc: 0.8544\n",
      "Epoch 20/20\n",
      "15000/15000 [==============================] - 2s 126us/step - loss: 0.0395 - acc: 0.9901 - val_loss: 0.5601 - val_acc: 0.8520\n"
     ]
    }
   ],
   "source": [
    "num_epochs = 20\n",
    "history = model.fit(partial_x_train, partial_y_train,epochs = num_epochs, batch_size = 512, validation_data = (x_val, y_val))"
   ]
  },
  {
   "cell_type": "markdown",
   "metadata": {},
   "source": [
    "## Visualization"
   ]
  },
  {
   "cell_type": "code",
   "execution_count": 10,
   "metadata": {},
   "outputs": [
    {
     "data": {
      "image/png": "[encoded data removed]",
      "text/plain": [
       "<Figure size 432x288 with 1 Axes>"
      ]
     },
     "metadata": {
      "needs_background": "light"
     },
     "output_type": "display_data"
    }
   ],
   "source": [
    "import matplotlib.pyplot as plt\n",
    "\n",
    "history_dict = history.history\n",
    "loss_values = history_dict['loss']\n",
    "val_loss_values = history_dict['val_loss']\n",
    "\n",
    "epochs = range(1, num_epochs + 1)\n",
    "\n",
    "plt.plot(epochs, loss_values, 'bo', label = 'Training loss')\n",
    "plt.plot(epochs, val_loss_values, 'b', label = 'Validation loss')\n",
    "plt.title('Training and validation loss')\n",
    "plt.xlabel('Epochs')\n",
    "plt.ylabel('Loss')\n",
    "plt.legend()\n",
    "plt.show()"
   ]
  },
  {
   "cell_type": "code",
   "execution_count": 14,
   "metadata": {},
   "outputs": [
    {
     "data": {
      "image/png": "[encoded data removed]",
      "text/plain": [
       "<Figure size 432x288 with 1 Axes>"
      ]
     },
     "metadata": {
      "needs_background": "light"
     },
     "output_type": "display_data"
    }
   ],
   "source": [
    "plt.clf()\n",
    "acc_values = history_dict['acc']\n",
    "val_acc_values = history_dict['val_acc']\n",
    "\n",
    "plt.plot(epochs, acc_values, 'bo', label = 'Training accuracy')\n",
    "plt.plot(epochs, val_acc_values, 'b', label = 'Validation accuracy')\n",
    "plt.title('Training and validation accuracy')\n",
    "plt.xlabel('Epochs')\n",
    "plt.ylabel('Accuracy')\n",
    "plt.legend()\n",
    "plt.show()"
   ]
  },
  {
   "cell_type": "code",
   "execution_count": null,
   "metadata": {},
   "outputs": [],
   "source": []
  }
 ],
 "metadata": {
  "kernelspec": {
   "display_name": "Python 3",
   "language": "python",
   "name": "python3"
  },
  "language_info": {
   "codemirror_mode": {
    "name": "ipython",
    "version": 3
   },
   "file_extension": ".py",
   "mimetype": "text/x-python",
   "name": "python",
   "nbconvert_exporter": "python",
   "pygments_lexer": "ipython3",
   "version": "3.6.7"
  }
 },
 "nbformat": 4,
 "nbformat_minor": 2
}
